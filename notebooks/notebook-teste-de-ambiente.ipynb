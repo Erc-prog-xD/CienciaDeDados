{
 "cells": [
  {
   "cell_type": "markdown",
   "id": "2f1dd0fa",
   "metadata": {},
   "source": [
    "## Pandas"
   ]
  },
  {
   "cell_type": "code",
   "execution_count": null,
   "id": "9f78048b",
   "metadata": {},
   "outputs": [
    {
     "ename": "ModuleNotFoundError",
     "evalue": "No module named 'pandas'",
     "output_type": "error",
     "traceback": [
      "\u001b[31m---------------------------------------------------------------------------\u001b[39m",
      "\u001b[31mModuleNotFoundError\u001b[39m                       Traceback (most recent call last)",
      "\u001b[36mCell\u001b[39m\u001b[36m \u001b[39m\u001b[32mIn[3]\u001b[39m\u001b[32m, line 1\u001b[39m\n\u001b[32m----> \u001b[39m\u001b[32m1\u001b[39m \u001b[38;5;28;01mimport\u001b[39;00m\u001b[38;5;250m \u001b[39m\u001b[34;01mpandas\u001b[39;00m\u001b[38;5;250m \u001b[39m\u001b[38;5;28;01mas\u001b[39;00m\u001b[38;5;250m \u001b[39m\u001b[34;01mpd\u001b[39;00m \u001b[38;5;66;03m# pyright: ignore[reportMissingModuleSource]\u001b[39;00m\n\u001b[32m      3\u001b[39m data = pd.DataFrame(columns=[\u001b[33m'\u001b[39m\u001b[33mCol1\u001b[39m\u001b[33m'\u001b[39m, \u001b[33m'\u001b[39m\u001b[33mCol2\u001b[39m\u001b[33m'\u001b[39m], \n\u001b[32m      4\u001b[39m                     data=[[\u001b[32m1\u001b[39m,\u001b[32m2\u001b[39m],[\u001b[32m3\u001b[39m,\u001b[32m5\u001b[39m],[\u001b[32m5\u001b[39m,\u001b[32m6\u001b[39m]])\n\u001b[32m      5\u001b[39m data\n",
      "\u001b[31mModuleNotFoundError\u001b[39m: No module named 'pandas'"
     ]
    }
   ],
   "source": [
    "import pandas as pd\n",
    "\n",
    "data = pd.DataFrame(columns=['Col1', 'Col2'], \n",
    "                    data=[[1,2],[3,5],[5,6]])\n",
    "data"
   ]
  },
  {
   "cell_type": "markdown",
   "id": "5759708e",
   "metadata": {},
   "source": [
    "## Seaborn"
   ]
  },
  {
   "cell_type": "code",
   "execution_count": null,
   "id": "914582dd",
   "metadata": {},
   "outputs": [],
   "source": [
    "import seaborn as sns\n",
    "sns.set_theme(style=\"ticks\")\n",
    "\n",
    "df = sns.load_dataset(\"penguins\")\n",
    "sns.pairplot(df, hue=\"species\")"
   ]
  },
  {
   "cell_type": "markdown",
   "id": "96747033",
   "metadata": {},
   "source": [
    "## Scikit-learn / Matplotlib"
   ]
  },
  {
   "cell_type": "code",
   "execution_count": null,
   "id": "92776f73",
   "metadata": {},
   "outputs": [],
   "source": [
    "from sklearn.datasets import load_iris\n",
    "from sklearn.model_selection import train_test_split\n",
    "from sklearn.pipeline import make_pipeline\n",
    "from sklearn.preprocessing import StandardScaler\n",
    "from sklearn.linear_model import LogisticRegression\n",
    "from sklearn.metrics import accuracy_score, ConfusionMatrixDisplay\n",
    "import matplotlib.pyplot as plt\n",
    "\n",
    "X, y = load_iris(return_X_y=True)\n",
    "Xtr, Xte, ytr, yte = train_test_split(X, y, stratify=y, test_size=0.3, random_state=0)\n",
    "clf = make_pipeline(StandardScaler(), LogisticRegression(max_iter=1000)).fit(Xtr, ytr)\n",
    "pred = clf.predict(Xte)\n",
    "print(\"Accuracy:\", round(accuracy_score(yte, pred), 3))\n",
    "ConfusionMatrixDisplay.from_predictions(yte, pred)\n",
    "plt.title(\"Iris — Logistic Regression (holdout)\"); plt.show()\n"
   ]
  }
 ],
 "metadata": {
  "kernelspec": {
   "display_name": "Python 3",
   "language": "python",
   "name": "python3"
  },
  "language_info": {
   "codemirror_mode": {
    "name": "ipython",
    "version": 3
   },
   "file_extension": ".py",
   "mimetype": "text/x-python",
   "name": "python",
   "nbconvert_exporter": "python",
   "pygments_lexer": "ipython3",
   "version": "3.12.6"
  }
 },
 "nbformat": 4,
 "nbformat_minor": 5
}
