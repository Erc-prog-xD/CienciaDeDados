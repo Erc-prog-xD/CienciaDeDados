{
 "cells": [
  {
   "cell_type": "code",
   "execution_count": null,
   "id": "3f9c598e",
   "metadata": {},
   "outputs": [],
   "source": [
    "import pandas as pd\n",
    "from IPython.display import display \n",
    "\n",
    "data = pd.read_csv('../data/vehicle_price_prediction.csv',sep=',')\n",
    "# Exemplo: remover as últimas 500 linhas\n",
    "data = data.iloc[:-100000]\n",
    "\n",
    "# Salvar em novo arquivo\n",
    "data.to_csv(\"vehicle_price_prediction.csv\", index=False)\n",
    "\n"
   ]
  },
  {
   "cell_type": "code",
   "execution_count": null,
   "id": "bb795316",
   "metadata": {},
   "outputs": [],
   "source": []
  }
 ],
 "metadata": {
  "kernelspec": {
   "display_name": ".venv",
   "language": "python",
   "name": "python3"
  },
  "language_info": {
   "codemirror_mode": {
    "name": "ipython",
    "version": 3
   },
   "file_extension": ".py",
   "mimetype": "text/x-python",
   "name": "python",
   "nbconvert_exporter": "python",
   "pygments_lexer": "ipython3",
   "version": "3.12.6"
  }
 },
 "nbformat": 4,
 "nbformat_minor": 5
}
